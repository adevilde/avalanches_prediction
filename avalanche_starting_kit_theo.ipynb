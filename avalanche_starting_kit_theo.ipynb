{
 "cells": [
  {
   "cell_type": "markdown",
   "metadata": {},
   "source": [
    "<div style=\"text-align: center;\">\n",
    "    <a href=\"https://www.dataia.eu/\">\n",
    "        <img border=\"0\" src=\"https://github.com/ramp-kits/template-kit/raw/main/img/DATAIA-h.png\" width=\"90%\"></a>\n",
    "</div>\n",
    "\n",
    "# Data Camp RAMP Challenge on the avalanche risk prediction\n",
    "\n",
    "<i> Florent Blanc, Bryan Chen, Sibylle Degos, Alice Devilder, Rémy Grabet, Théo Paquier </i>"
   ]
  },
  {
   "cell_type": "markdown",
   "metadata": {},
   "source": [
    "## Introduction\n",
    "\n",
    "Describe the challenge, in particular:\n",
    "\n",
    "- Where the data comes from?\n",
    "- What is the task this challenge aims to solve?\n",
    "- Why does it matter?"
   ]
  },
  {
   "cell_type": "markdown",
   "metadata": {},
   "source": [
    "### Avalanche risk\n",
    "\n",
    "Avalanches pose a significant threat to outdoor enthusiasts, ski patrol teams, and mountain communities. Predicting avalanche risk accurately is crucial for ensuring safety in mountainous regions. This challenge aims to leverage data science to analyze and forecast avalanche risk based on historical reports from Météo-France. By processing and interpreting structured data extracted from avalanche risk bulletins, we can improve preparedness and decision-making in avalanche-prone areas.  \n",
    "\n",
    "### The BERA database, a catalog of avalanche risk bulletins\n",
    "\n",
    "The data for this challenge comes from **Météo-France** through the **Bulletins d'Estimation du Risque d'Avalanche (BERA)**, which provide official assessments of avalanche hazards. Originally, these reports were only available in PDF format, making them difficult to analyze systematically. However, [multi-coop](https://gitlab.com/multi-coop/meteofrance_bra_hist) has extracted and structured this data into CSV files, categorized by mountain region (massif) and publication date.\n",
    "\n",
    "The dataset consists of **34,286 records**, each representing a daily avalanche risk bulletin for a specific massif. It includes **47 features**, covering information on:\n",
    "- **Avalanche risk levels (`risque1`, `risque2`, `risque_maxi`)** at different altitudes.\n",
    "- **Geographic and temporal data (`massif`, `altitude`, `date`)**.\n",
    "- **Weather conditions (`isotherme_0`, `precipitation_neige_veille_epaisseur`, `vent_altitude_*`)**.\n",
    "- **Risk evolution trends (`evolurisque1`, `evolurisque2`)**.\n",
    "\n",
    "This dataset provides a historical record of avalanche risk conditions, making it a valuable resource for predictive modeling.\n",
    "\n",
    "### What is the task this challenge aims to solve?  \n",
    "The main objective of this challenge is to **predict avalanche risk** based on the structured BERA data. By analyzing historical risk reports and meteorological conditions, we can develop models that estimate avalanche hazards more effectively.  \n",
    "\n",
    "This task has multiple applications. First, it can help outdoor enthusiasts, ski patrols, and mountain rescue teams plan safer routes and make informed decisions before heading into avalanche-prone terrain. Additionally, the challenge aims to serve as an educational tool for analyzing past avalanche incidents, helping researchers and safety experts understand risk factors. Finally, by improving real-time risk estimation models, the challenge contributes to broader efforts in avalanche forecasting and disaster prevention.  \n",
    "\n",
    "### Why does it matter?  \n",
    "Avalanches are a deadly natural hazard, posing risks to skiers, snowboarders, mountaineers, and local communities. Developing accurate avalanche prediction models can save lives by providing crucial insights into when and where avalanches are most likely to occur.  \n",
    "\n",
    "Improved avalanche forecasting enhances safety measures for ski resorts, backcountry travelers, and rescue operations. It also contributes to environmental and climate research, as avalanche behavior is influenced by broader weather patterns and climate change. By transforming unstructured reports into actionable insights, this challenge harnesses the power of data science to improve preparedness and response in mountainous regions.  "
   ]
  },
  {
   "cell_type": "markdown",
   "metadata": {},
   "source": [
    "# Exploratory data analysis\n",
    "\n",
    "The goal of this section is to show what's in the data, and how to play with it.\n",
    "This is the first set in any data science project, and here, you should give a sense of the data the participants will be working with.\n",
    "\n",
    "You can first load and describe the data, and then show some interesting properties of it."
   ]
  },
  {
   "cell_type": "code",
   "execution_count": 1,
   "metadata": {},
   "outputs": [],
   "source": [
    "%%capture\n",
    "!pip install ramp-workflow"
   ]
  },
  {
   "cell_type": "code",
   "execution_count": 2,
   "metadata": {},
   "outputs": [],
   "source": [
    "%matplotlib inline\n",
    "import numpy as np\n",
    "import pandas as pd\n",
    "import matplotlib.pyplot as plt\n",
    "pd.set_option('display.max_columns', None)\n",
    "import seaborn as sns"
   ]
  },
  {
   "cell_type": "code",
   "execution_count": 3,
   "metadata": {},
   "outputs": [],
   "source": [
    "import geopandas as gpd\n",
    "import os as os\n",
    "from urllib.request import urlretrieve\n",
    "from zipfile import ZipFile\n",
    "from shapely.geometry import Polygon"
   ]
  },
  {
   "cell_type": "markdown",
   "metadata": {},
   "source": [
    "### Get access to the training data"
   ]
  },
  {
   "cell_type": "code",
   "execution_count": 4,
   "metadata": {},
   "outputs": [],
   "source": [
    "import problem\n",
    "X_df, y = problem.get_train_data()"
   ]
  },
  {
   "cell_type": "code",
   "execution_count": 5,
   "metadata": {},
   "outputs": [],
   "source": [
    "data = pd.concat([X_df,y],axis=1)"
   ]
  },
  {
   "cell_type": "markdown",
   "metadata": {},
   "source": [
    "## The static features\n",
    "\n",
    "**TODO** <span style=\"color:red\">Red variables</span> are ids, labels, or other human-annotated features, so they should not be used as input in the classification. <span style=\"color:lightblue\">Light blue variables</span> are legal but not likely to contribute information to the classification. Black variables are definitely discriminative.\n",
    "\n",
    "- **Avalanche Risk Levels**: \n",
    "  - `risque1`: Estimated risk level for all altitudes or the lowest ones.\n",
    "  - `risque2`: Estimated risk level for the highest altitudes.\n",
    "  - `risque_maxi`: The highest risk level reported for a given massif.\n",
    "- **Geographic and Temporal Information**:\n",
    "  - `date`: The publication date of the bulletin.\n",
    "  - `massif`: The mountain region for which the risk is assessed.\n",
    "  - `altitude`: Altitude information, if available.\n",
    "- **Meteorological Conditions**:\n",
    "  - `isotherme_0`: Altitude of the 0°C isotherm.\n",
    "  - `isotherme_moins_10`: Altitude of the -10°C isotherm.\n",
    "  - `precipitation_neige_veille_epaisseur`: Snowfall height measured the day before.\n",
    "  - `vitesse_vent_altitude_1`: Wind speed at a lower altitude.\n",
    "  - `vitesse_vent_altitude_2`: Wind speed at a higher altitude.\n",
    "  - `direction_vent_altitude_1`: Wind direction at a lower altitude.\n",
    "  - `direction_vent_altitude_2`: Wind direction at a higher altitude.\n",
    "  - `limite_pluie_neige`: Rain-snow limit altitude.\n",
    "- **Risk Evolution and Additional Context**:\n",
    "  - `evolurisque1`, `evolurisque2`: Evolution of risk levels over time.\n",
    "  - `commentaire`: Additional commentary on risk conditions.\n",
    "  - `url_telechargement`: Link to the original BERA report in PDF format. "
   ]
  },
  {
   "cell_type": "code",
   "execution_count": 6,
   "metadata": {},
   "outputs": [
    {
     "data": {
      "text/html": [
       "<div>\n",
       "<style scoped>\n",
       "    .dataframe tbody tr th:only-of-type {\n",
       "        vertical-align: middle;\n",
       "    }\n",
       "\n",
       "    .dataframe tbody tr th {\n",
       "        vertical-align: top;\n",
       "    }\n",
       "\n",
       "    .dataframe thead th {\n",
       "        text-align: right;\n",
       "    }\n",
       "</style>\n",
       "<table border=\"1\" class=\"dataframe\">\n",
       "  <thead>\n",
       "    <tr style=\"text-align: right;\">\n",
       "      <th></th>\n",
       "      <th>date</th>\n",
       "      <th>massif</th>\n",
       "      <th>evolurisque1</th>\n",
       "      <th>altitude</th>\n",
       "      <th>risque2</th>\n",
       "      <th>risque_maxi</th>\n",
       "      <th>00_temps</th>\n",
       "      <th>00_mer_de_nuages</th>\n",
       "      <th>00_limite_pluie_neige</th>\n",
       "      <th>00_isotherme_0</th>\n",
       "      <th>00_isotherme_moins_10</th>\n",
       "      <th>00_altitude_vent_1</th>\n",
       "      <th>00_altitude_vent_2</th>\n",
       "      <th>00_direction_vent_altitude_1</th>\n",
       "      <th>00_vitesse_vent_altitude_1</th>\n",
       "      <th>00_direction_vent_altitude_2</th>\n",
       "      <th>00_vitesse_vent_altitude_2</th>\n",
       "      <th>06_temps</th>\n",
       "      <th>06_mer_de_nuages</th>\n",
       "      <th>06_limite_pluie_neige</th>\n",
       "      <th>06_isotherme_0</th>\n",
       "      <th>06_isotherme_moins_10</th>\n",
       "      <th>06_altitude_vent_1</th>\n",
       "      <th>06_altitude_vent_2</th>\n",
       "      <th>06_direction_vent_altitude_1</th>\n",
       "      <th>06_vitesse_vent_altitude_1</th>\n",
       "      <th>06_direction_vent_altitude_2</th>\n",
       "      <th>06_vitesse_vent_altitude_2</th>\n",
       "      <th>12_temps</th>\n",
       "      <th>12_mer_de_nuages</th>\n",
       "      <th>12_limite_pluie_neige</th>\n",
       "      <th>12_isotherme_0</th>\n",
       "      <th>12_isotherme_moins_10</th>\n",
       "      <th>12_altitude_vent_1</th>\n",
       "      <th>12_altitude_vent_2</th>\n",
       "      <th>12_direction_vent_altitude_1</th>\n",
       "      <th>12_vitesse_vent_altitude_1</th>\n",
       "      <th>12_direction_vent_altitude_2</th>\n",
       "      <th>12_vitesse_vent_altitude_2</th>\n",
       "      <th>precipitation_neige_veille_altitude</th>\n",
       "      <th>precipitation_neige_veille_epaisseur</th>\n",
       "    </tr>\n",
       "  </thead>\n",
       "  <tbody>\n",
       "    <tr>\n",
       "      <th>0</th>\n",
       "      <td>2020-01-21</td>\n",
       "      <td>HAUT-VAR_HAUT-VERDON</td>\n",
       "      <td>NaN</td>\n",
       "      <td>NaN</td>\n",
       "      <td>2.0</td>\n",
       "      <td>2</td>\n",
       "      <td>Très nuageux</td>\n",
       "      <td>Non</td>\n",
       "      <td>Sans objet</td>\n",
       "      <td>1200</td>\n",
       "      <td>3600</td>\n",
       "      <td>3000</td>\n",
       "      <td>Sans objet</td>\n",
       "      <td>SE</td>\n",
       "      <td>60</td>\n",
       "      <td>Sans objet</td>\n",
       "      <td>Sans objet</td>\n",
       "      <td>Eclaircies</td>\n",
       "      <td>Non</td>\n",
       "      <td>Sans objet</td>\n",
       "      <td>1400</td>\n",
       "      <td>3800</td>\n",
       "      <td>3000</td>\n",
       "      <td>Sans objet</td>\n",
       "      <td>E</td>\n",
       "      <td>60</td>\n",
       "      <td>Sans objet</td>\n",
       "      <td>Sans objet</td>\n",
       "      <td>Variable</td>\n",
       "      <td>Non</td>\n",
       "      <td>Sans objet</td>\n",
       "      <td>1900</td>\n",
       "      <td>3900</td>\n",
       "      <td>3000</td>\n",
       "      <td>Sans objet</td>\n",
       "      <td>E</td>\n",
       "      <td>50</td>\n",
       "      <td>Sans objet</td>\n",
       "      <td>Sans objet</td>\n",
       "      <td>1800</td>\n",
       "      <td>0</td>\n",
       "    </tr>\n",
       "    <tr>\n",
       "      <th>1</th>\n",
       "      <td>2019-02-11</td>\n",
       "      <td>CINTO-ROTONDO</td>\n",
       "      <td>NaN</td>\n",
       "      <td>1800.0</td>\n",
       "      <td>2.0</td>\n",
       "      <td>2</td>\n",
       "      <td>Peu nuageux</td>\n",
       "      <td>Non</td>\n",
       "      <td>Sans objet</td>\n",
       "      <td>1600</td>\n",
       "      <td>4300</td>\n",
       "      <td>1500</td>\n",
       "      <td>3000</td>\n",
       "      <td>W</td>\n",
       "      <td>40</td>\n",
       "      <td>W</td>\n",
       "      <td>100</td>\n",
       "      <td>Averses de neige</td>\n",
       "      <td>Non</td>\n",
       "      <td>700</td>\n",
       "      <td>1000</td>\n",
       "      <td>2600</td>\n",
       "      <td>1500</td>\n",
       "      <td>3000</td>\n",
       "      <td>W</td>\n",
       "      <td>40</td>\n",
       "      <td>W</td>\n",
       "      <td>110</td>\n",
       "      <td>Averses de neige</td>\n",
       "      <td>Non</td>\n",
       "      <td>900</td>\n",
       "      <td>1200</td>\n",
       "      <td>2400</td>\n",
       "      <td>1500</td>\n",
       "      <td>3000</td>\n",
       "      <td>NW</td>\n",
       "      <td>50</td>\n",
       "      <td>NW</td>\n",
       "      <td>60</td>\n",
       "      <td>1800</td>\n",
       "      <td>0</td>\n",
       "    </tr>\n",
       "    <tr>\n",
       "      <th>2</th>\n",
       "      <td>2021-11-19</td>\n",
       "      <td>HAUTE-MAURIENNE</td>\n",
       "      <td>NaN</td>\n",
       "      <td>3000.0</td>\n",
       "      <td>3.0</td>\n",
       "      <td>3</td>\n",
       "      <td>Beau temps</td>\n",
       "      <td>Non</td>\n",
       "      <td>Sans objet</td>\n",
       "      <td>3200</td>\n",
       "      <td>4900</td>\n",
       "      <td>3000</td>\n",
       "      <td>4000</td>\n",
       "      <td>_</td>\n",
       "      <td>0</td>\n",
       "      <td>E</td>\n",
       "      <td>30</td>\n",
       "      <td>Beau temps</td>\n",
       "      <td>Non</td>\n",
       "      <td>Sans objet</td>\n",
       "      <td>3400</td>\n",
       "      <td>4900</td>\n",
       "      <td>3000</td>\n",
       "      <td>4000</td>\n",
       "      <td>NE</td>\n",
       "      <td>10</td>\n",
       "      <td>E</td>\n",
       "      <td>20</td>\n",
       "      <td>Beau temps</td>\n",
       "      <td>Non</td>\n",
       "      <td>Sans objet</td>\n",
       "      <td>3500</td>\n",
       "      <td>5000</td>\n",
       "      <td>3000</td>\n",
       "      <td>4000</td>\n",
       "      <td>_</td>\n",
       "      <td>0</td>\n",
       "      <td>_</td>\n",
       "      <td>0</td>\n",
       "      <td>1800</td>\n",
       "      <td>0</td>\n",
       "    </tr>\n",
       "    <tr>\n",
       "      <th>3</th>\n",
       "      <td>2020-01-26</td>\n",
       "      <td>OISANS</td>\n",
       "      <td>NaN</td>\n",
       "      <td>2200.0</td>\n",
       "      <td>2.0</td>\n",
       "      <td>3</td>\n",
       "      <td>Variable</td>\n",
       "      <td>Non</td>\n",
       "      <td>Sans objet</td>\n",
       "      <td>1900</td>\n",
       "      <td>3300</td>\n",
       "      <td>2500</td>\n",
       "      <td>3500</td>\n",
       "      <td>SE</td>\n",
       "      <td>10</td>\n",
       "      <td>SW</td>\n",
       "      <td>20</td>\n",
       "      <td>Neige faible</td>\n",
       "      <td>Non</td>\n",
       "      <td>1200</td>\n",
       "      <td>1600</td>\n",
       "      <td>3300</td>\n",
       "      <td>2500</td>\n",
       "      <td>3500</td>\n",
       "      <td>_</td>\n",
       "      <td>0</td>\n",
       "      <td>SW</td>\n",
       "      <td>20</td>\n",
       "      <td>Neige faible</td>\n",
       "      <td>Non</td>\n",
       "      <td>1300</td>\n",
       "      <td>1600</td>\n",
       "      <td>3300</td>\n",
       "      <td>2500</td>\n",
       "      <td>3500</td>\n",
       "      <td>_</td>\n",
       "      <td>0</td>\n",
       "      <td>W</td>\n",
       "      <td>30</td>\n",
       "      <td>1800</td>\n",
       "      <td>5</td>\n",
       "    </tr>\n",
       "    <tr>\n",
       "      <th>4</th>\n",
       "      <td>2021-12-08</td>\n",
       "      <td>VANOISE</td>\n",
       "      <td>NaN</td>\n",
       "      <td>NaN</td>\n",
       "      <td>4.0</td>\n",
       "      <td>4</td>\n",
       "      <td>Neige faible</td>\n",
       "      <td>Non</td>\n",
       "      <td>1200</td>\n",
       "      <td>2200</td>\n",
       "      <td>3700</td>\n",
       "      <td>3000</td>\n",
       "      <td>4000</td>\n",
       "      <td>SW</td>\n",
       "      <td>20</td>\n",
       "      <td>W</td>\n",
       "      <td>40</td>\n",
       "      <td>Neige modérée</td>\n",
       "      <td>Non</td>\n",
       "      <td>800</td>\n",
       "      <td>1000</td>\n",
       "      <td>3500</td>\n",
       "      <td>3000</td>\n",
       "      <td>4000</td>\n",
       "      <td>_</td>\n",
       "      <td>0</td>\n",
       "      <td>SW</td>\n",
       "      <td>40</td>\n",
       "      <td>Neige modérée</td>\n",
       "      <td>Non</td>\n",
       "      <td>400</td>\n",
       "      <td>700</td>\n",
       "      <td>2800</td>\n",
       "      <td>3000</td>\n",
       "      <td>4000</td>\n",
       "      <td>N</td>\n",
       "      <td>20</td>\n",
       "      <td>NW</td>\n",
       "      <td>20</td>\n",
       "      <td>1800</td>\n",
       "      <td>35</td>\n",
       "    </tr>\n",
       "  </tbody>\n",
       "</table>\n",
       "</div>"
      ],
      "text/plain": [
       "         date                massif  evolurisque1  altitude  risque2  \\\n",
       "0  2020-01-21  HAUT-VAR_HAUT-VERDON           NaN       NaN      2.0   \n",
       "1  2019-02-11         CINTO-ROTONDO           NaN    1800.0      2.0   \n",
       "2  2021-11-19       HAUTE-MAURIENNE           NaN    3000.0      3.0   \n",
       "3  2020-01-26                OISANS           NaN    2200.0      2.0   \n",
       "4  2021-12-08               VANOISE           NaN       NaN      4.0   \n",
       "\n",
       "   risque_maxi      00_temps 00_mer_de_nuages 00_limite_pluie_neige  \\\n",
       "0            2  Très nuageux              Non            Sans objet   \n",
       "1            2   Peu nuageux              Non            Sans objet   \n",
       "2            3    Beau temps              Non            Sans objet   \n",
       "3            3      Variable              Non            Sans objet   \n",
       "4            4  Neige faible              Non                  1200   \n",
       "\n",
       "  00_isotherme_0 00_isotherme_moins_10 00_altitude_vent_1 00_altitude_vent_2  \\\n",
       "0           1200                  3600               3000         Sans objet   \n",
       "1           1600                  4300               1500               3000   \n",
       "2           3200                  4900               3000               4000   \n",
       "3           1900                  3300               2500               3500   \n",
       "4           2200                  3700               3000               4000   \n",
       "\n",
       "  00_direction_vent_altitude_1 00_vitesse_vent_altitude_1  \\\n",
       "0                           SE                         60   \n",
       "1                            W                         40   \n",
       "2                            _                          0   \n",
       "3                           SE                         10   \n",
       "4                           SW                         20   \n",
       "\n",
       "  00_direction_vent_altitude_2 00_vitesse_vent_altitude_2          06_temps  \\\n",
       "0                   Sans objet                 Sans objet        Eclaircies   \n",
       "1                            W                        100  Averses de neige   \n",
       "2                            E                         30        Beau temps   \n",
       "3                           SW                         20      Neige faible   \n",
       "4                            W                         40     Neige modérée   \n",
       "\n",
       "  06_mer_de_nuages 06_limite_pluie_neige 06_isotherme_0 06_isotherme_moins_10  \\\n",
       "0              Non            Sans objet           1400                  3800   \n",
       "1              Non                   700           1000                  2600   \n",
       "2              Non            Sans objet           3400                  4900   \n",
       "3              Non                  1200           1600                  3300   \n",
       "4              Non                   800           1000                  3500   \n",
       "\n",
       "  06_altitude_vent_1 06_altitude_vent_2 06_direction_vent_altitude_1  \\\n",
       "0               3000         Sans objet                            E   \n",
       "1               1500               3000                            W   \n",
       "2               3000               4000                           NE   \n",
       "3               2500               3500                            _   \n",
       "4               3000               4000                            _   \n",
       "\n",
       "  06_vitesse_vent_altitude_1 06_direction_vent_altitude_2  \\\n",
       "0                         60                   Sans objet   \n",
       "1                         40                            W   \n",
       "2                         10                            E   \n",
       "3                          0                           SW   \n",
       "4                          0                           SW   \n",
       "\n",
       "  06_vitesse_vent_altitude_2          12_temps 12_mer_de_nuages  \\\n",
       "0                 Sans objet          Variable              Non   \n",
       "1                        110  Averses de neige              Non   \n",
       "2                         20        Beau temps              Non   \n",
       "3                         20      Neige faible              Non   \n",
       "4                         40     Neige modérée              Non   \n",
       "\n",
       "  12_limite_pluie_neige 12_isotherme_0 12_isotherme_moins_10  \\\n",
       "0            Sans objet           1900                  3900   \n",
       "1                   900           1200                  2400   \n",
       "2            Sans objet           3500                  5000   \n",
       "3                  1300           1600                  3300   \n",
       "4                   400            700                  2800   \n",
       "\n",
       "  12_altitude_vent_1 12_altitude_vent_2 12_direction_vent_altitude_1  \\\n",
       "0               3000         Sans objet                            E   \n",
       "1               1500               3000                           NW   \n",
       "2               3000               4000                            _   \n",
       "3               2500               3500                            _   \n",
       "4               3000               4000                            N   \n",
       "\n",
       "  12_vitesse_vent_altitude_1 12_direction_vent_altitude_2  \\\n",
       "0                         50                   Sans objet   \n",
       "1                         50                           NW   \n",
       "2                          0                            _   \n",
       "3                          0                            W   \n",
       "4                         20                           NW   \n",
       "\n",
       "  12_vitesse_vent_altitude_2 precipitation_neige_veille_altitude  \\\n",
       "0                 Sans objet                                1800   \n",
       "1                         60                                1800   \n",
       "2                          0                                1800   \n",
       "3                         30                                1800   \n",
       "4                         20                                1800   \n",
       "\n",
       "  precipitation_neige_veille_epaisseur  \n",
       "0                                    0  \n",
       "1                                    0  \n",
       "2                                    0  \n",
       "3                                    5  \n",
       "4                                   35  "
      ]
     },
     "execution_count": 6,
     "metadata": {},
     "output_type": "execute_result"
    }
   ],
   "source": [
    "X_df.head()"
   ]
  },
  {
   "cell_type": "code",
   "execution_count": 7,
   "metadata": {},
   "outputs": [
    {
     "data": {
      "text/html": [
       "<div>\n",
       "<style scoped>\n",
       "    .dataframe tbody tr th:only-of-type {\n",
       "        vertical-align: middle;\n",
       "    }\n",
       "\n",
       "    .dataframe tbody tr th {\n",
       "        vertical-align: top;\n",
       "    }\n",
       "\n",
       "    .dataframe thead th {\n",
       "        text-align: right;\n",
       "    }\n",
       "</style>\n",
       "<table border=\"1\" class=\"dataframe\">\n",
       "  <thead>\n",
       "    <tr style=\"text-align: right;\">\n",
       "      <th></th>\n",
       "      <th>evolurisque1</th>\n",
       "      <th>altitude</th>\n",
       "      <th>risque2</th>\n",
       "      <th>risque_maxi</th>\n",
       "      <th>risque1</th>\n",
       "    </tr>\n",
       "  </thead>\n",
       "  <tbody>\n",
       "    <tr>\n",
       "      <th>count</th>\n",
       "      <td>2913.000000</td>\n",
       "      <td>9046.000000</td>\n",
       "      <td>21862.000000</td>\n",
       "      <td>21862.000000</td>\n",
       "      <td>21862.000000</td>\n",
       "    </tr>\n",
       "    <tr>\n",
       "      <th>mean</th>\n",
       "      <td>2.348438</td>\n",
       "      <td>2248.960867</td>\n",
       "      <td>2.040847</td>\n",
       "      <td>2.165859</td>\n",
       "      <td>1.641753</td>\n",
       "    </tr>\n",
       "    <tr>\n",
       "      <th>std</th>\n",
       "      <td>0.603144</td>\n",
       "      <td>283.113315</td>\n",
       "      <td>0.823429</td>\n",
       "      <td>0.807217</td>\n",
       "      <td>0.761482</td>\n",
       "    </tr>\n",
       "    <tr>\n",
       "      <th>min</th>\n",
       "      <td>1.000000</td>\n",
       "      <td>1300.000000</td>\n",
       "      <td>1.000000</td>\n",
       "      <td>1.000000</td>\n",
       "      <td>1.000000</td>\n",
       "    </tr>\n",
       "    <tr>\n",
       "      <th>25%</th>\n",
       "      <td>2.000000</td>\n",
       "      <td>2000.000000</td>\n",
       "      <td>1.000000</td>\n",
       "      <td>2.000000</td>\n",
       "      <td>1.000000</td>\n",
       "    </tr>\n",
       "    <tr>\n",
       "      <th>50%</th>\n",
       "      <td>2.000000</td>\n",
       "      <td>2200.000000</td>\n",
       "      <td>2.000000</td>\n",
       "      <td>2.000000</td>\n",
       "      <td>1.000000</td>\n",
       "    </tr>\n",
       "    <tr>\n",
       "      <th>75%</th>\n",
       "      <td>3.000000</td>\n",
       "      <td>2400.000000</td>\n",
       "      <td>3.000000</td>\n",
       "      <td>3.000000</td>\n",
       "      <td>2.000000</td>\n",
       "    </tr>\n",
       "    <tr>\n",
       "      <th>max</th>\n",
       "      <td>5.000000</td>\n",
       "      <td>3600.000000</td>\n",
       "      <td>5.000000</td>\n",
       "      <td>5.000000</td>\n",
       "      <td>5.000000</td>\n",
       "    </tr>\n",
       "  </tbody>\n",
       "</table>\n",
       "</div>"
      ],
      "text/plain": [
       "       evolurisque1     altitude       risque2   risque_maxi       risque1\n",
       "count   2913.000000  9046.000000  21862.000000  21862.000000  21862.000000\n",
       "mean       2.348438  2248.960867      2.040847      2.165859      1.641753\n",
       "std        0.603144   283.113315      0.823429      0.807217      0.761482\n",
       "min        1.000000  1300.000000      1.000000      1.000000      1.000000\n",
       "25%        2.000000  2000.000000      1.000000      2.000000      1.000000\n",
       "50%        2.000000  2200.000000      2.000000      2.000000      1.000000\n",
       "75%        3.000000  2400.000000      3.000000      3.000000      2.000000\n",
       "max        5.000000  3600.000000      5.000000      5.000000      5.000000"
      ]
     },
     "execution_count": 7,
     "metadata": {},
     "output_type": "execute_result"
    }
   ],
   "source": [
    "# Summary statistics\n",
    "data.describe()"
   ]
  },
  {
   "cell_type": "markdown",
   "metadata": {},
   "source": [
    "## The risk levels\n",
    "\n",
    "The avalanche risk levels are classified into five categories, ranging from low to extreme risk. These levels are defined as follows:\n",
    "\n",
    "- **Level 1 (Low)**: Low risk of avalanches, natural triggers are unlikely.\n",
    "\n",
    "- **Level 2 (Moderate)**: Moderate risk of avalanches, natural triggers are possible.\n",
    "\n",
    "- **Level 3 (Considerable)**: Considerable risk of avalanches, natural triggers are likely.\n",
    "\n",
    "- **Level 4 (High)**: High risk of avalanches, natural triggers are very likely.\n",
    "\n",
    "- **Level 5 (Very High)**: Very high risk of avalanches, natural triggers are certain.\n",
    "\n",
    "The risk levels are reported for different altitudes, with `risque1` and `risque2` representing the risk levels at lower and higher altitudes, respectively. The `risque_maxi` variable indicates the highest risk level reported for a given massif."
   ]
  },
  {
   "cell_type": "code",
   "execution_count": 8,
   "metadata": {},
   "outputs": [
    {
     "data": {
      "image/png": "[encoded data removed]",
      "text/plain": [
       "<Figure size 600x400 with 1 Axes>"
      ]
     },
     "metadata": {},
     "output_type": "display_data"
    }
   ],
   "source": [
    "# Class distribution\n",
    "plt.figure(figsize=(6, 4))\n",
    "y.value_counts().plot(kind='bar')\n",
    "plt.title(\"Target Class Distribution\")\n",
    "plt.show()"
   ]
  },
  {
   "cell_type": "markdown",
   "metadata": {},
   "source": [
    "Check the number of Nan per column"
   ]
  },
  {
   "cell_type": "code",
   "execution_count": 9,
   "metadata": {},
   "outputs": [
    {
     "data": {
      "text/plain": [
       "Index(['date', 'massif', 'evolurisque1', 'altitude', 'risque2', 'risque_maxi',\n",
       "       '00_temps', '00_mer_de_nuages', '00_limite_pluie_neige',\n",
       "       '00_isotherme_0', '00_isotherme_moins_10', '00_altitude_vent_1',\n",
       "       '00_altitude_vent_2', '00_direction_vent_altitude_1',\n",
       "       '00_vitesse_vent_altitude_1', '00_direction_vent_altitude_2',\n",
       "       '00_vitesse_vent_altitude_2', '06_temps', '06_mer_de_nuages',\n",
       "       '06_limite_pluie_neige', '06_isotherme_0', '06_isotherme_moins_10',\n",
       "       '06_altitude_vent_1', '06_altitude_vent_2',\n",
       "       '06_direction_vent_altitude_1', '06_vitesse_vent_altitude_1',\n",
       "       '06_direction_vent_altitude_2', '06_vitesse_vent_altitude_2',\n",
       "       '12_temps', '12_mer_de_nuages', '12_limite_pluie_neige',\n",
       "       '12_isotherme_0', '12_isotherme_moins_10', '12_altitude_vent_1',\n",
       "       '12_altitude_vent_2', '12_direction_vent_altitude_1',\n",
       "       '12_vitesse_vent_altitude_1', '12_direction_vent_altitude_2',\n",
       "       '12_vitesse_vent_altitude_2', 'precipitation_neige_veille_altitude',\n",
       "       'precipitation_neige_veille_epaisseur', 'risque1'],\n",
       "      dtype='object')"
      ]
     },
     "execution_count": 9,
     "metadata": {},
     "output_type": "execute_result"
    }
   ],
   "source": [
    "data.columns"
   ]
  },
  {
   "cell_type": "code",
   "execution_count": 10,
   "metadata": {},
   "outputs": [
    {
     "data": {
      "text/plain": [
       "(21862, 42)"
      ]
     },
     "execution_count": 10,
     "metadata": {},
     "output_type": "execute_result"
    }
   ],
   "source": [
    "data.shape"
   ]
  },
  {
   "cell_type": "code",
   "execution_count": 11,
   "metadata": {},
   "outputs": [
    {
     "name": "stdout",
     "output_type": "stream",
     "text": [
      "Missing Values:\n",
      " date                                        0\n",
      "massif                                      0\n",
      "evolurisque1                            18949\n",
      "altitude                                12816\n",
      "risque2                                     0\n",
      "risque_maxi                                 0\n",
      "00_temps                                    0\n",
      "00_mer_de_nuages                            0\n",
      "00_limite_pluie_neige                       0\n",
      "00_isotherme_0                              0\n",
      "00_isotherme_moins_10                       0\n",
      "00_altitude_vent_1                          0\n",
      "00_altitude_vent_2                          0\n",
      "00_direction_vent_altitude_1                0\n",
      "00_vitesse_vent_altitude_1                  0\n",
      "00_direction_vent_altitude_2                0\n",
      "00_vitesse_vent_altitude_2                  0\n",
      "06_temps                                    0\n",
      "06_mer_de_nuages                            0\n",
      "06_limite_pluie_neige                       0\n",
      "06_isotherme_0                              0\n",
      "06_isotherme_moins_10                       0\n",
      "06_altitude_vent_1                          0\n",
      "06_altitude_vent_2                          0\n",
      "06_direction_vent_altitude_1                0\n",
      "06_vitesse_vent_altitude_1                  0\n",
      "06_direction_vent_altitude_2                0\n",
      "06_vitesse_vent_altitude_2                  0\n",
      "12_temps                                    0\n",
      "12_mer_de_nuages                            0\n",
      "12_limite_pluie_neige                       0\n",
      "12_isotherme_0                              0\n",
      "12_isotherme_moins_10                       0\n",
      "12_altitude_vent_1                          0\n",
      "12_altitude_vent_2                          0\n",
      "12_direction_vent_altitude_1                0\n",
      "12_vitesse_vent_altitude_1                  0\n",
      "12_direction_vent_altitude_2                0\n",
      "12_vitesse_vent_altitude_2                  0\n",
      "precipitation_neige_veille_altitude         0\n",
      "precipitation_neige_veille_epaisseur        0\n",
      "risque1                                     0\n",
      "dtype: int64\n"
     ]
    }
   ],
   "source": [
    "print(\"Missing Values:\\n\", data.isna().sum())"
   ]
  },
  {
   "cell_type": "code",
   "execution_count": 12,
   "metadata": {},
   "outputs": [
    {
     "data": {
      "image/png": "[encoded data removed]",
      "text/plain": [
       "<Figure size 1000x600 with 2 Axes>"
      ]
     },
     "metadata": {},
     "output_type": "display_data"
    }
   ],
   "source": [
    "# Select only numerical columns\n",
    "numeric_data = data.select_dtypes(include=['number'])\n",
    "\n",
    "# Correlation heatmap\n",
    "plt.figure(figsize=(10, 6))\n",
    "sns.heatmap(numeric_data.corr(), annot=True, cmap='coolwarm', fmt=\".2f\", linewidths=0.5)\n",
    "plt.title(\"Feature Correlations\")\n",
    "plt.show()"
   ]
  },
  {
   "cell_type": "markdown",
   "metadata": {},
   "source": [
    "Check the mean risk for each massif :"
   ]
  },
  {
   "cell_type": "code",
   "execution_count": 13,
   "metadata": {},
   "outputs": [],
   "source": [
    "massifs = data['massif'].unique()"
   ]
  },
  {
   "cell_type": "code",
   "execution_count": 14,
   "metadata": {},
   "outputs": [
    {
     "data": {
      "image/png": "[encoded data removed]",
      "text/plain": [
       "<Figure size 1600x800 with 1 Axes>"
      ]
     },
     "metadata": {},
     "output_type": "display_data"
    }
   ],
   "source": [
    "data_massif = data.groupby('massif')\n",
    "\n",
    "# Plot the mean of the target variable for each massif and the risque 2 variable\n",
    "plt.figure(figsize=(16,8))\n",
    "plt.scatter(massifs, data_massif['risque1'].mean(), c='b')\n",
    "plt.scatter(massifs, data_massif['risque2'].mean(), c='r')\n",
    "plt.xticks(rotation=90)\n",
    "plt.xlabel('Massif')\n",
    "plt.ylabel('Risque')\n",
    "plt.legend(['Risque 1', 'Risque 2'])\n",
    "plt.title('Mean of the risque 1 and 2 for each massif')\n",
    "plt.grid()\n",
    "plt.show()"
   ]
  },
  {
   "cell_type": "markdown",
   "metadata": {},
   "source": [
    "### Create a time series plot of the risk levels"
   ]
  },
  {
   "cell_type": "code",
   "execution_count": 15,
   "metadata": {},
   "outputs": [],
   "source": [
    "# Convert date to datetime\n",
    "data['date'] = pd.to_datetime(data['date'])"
   ]
  },
  {
   "cell_type": "code",
   "execution_count": 16,
   "metadata": {},
   "outputs": [
    {
     "data": {
      "text/plain": [
       "False"
      ]
     },
     "execution_count": 16,
     "metadata": {},
     "output_type": "execute_result"
    }
   ],
   "source": [
    "# Check if the date are unique to put them as index\n",
    "data['date'].nunique() == data.shape[0]"
   ]
  },
  {
   "cell_type": "markdown",
   "metadata": {},
   "source": [
    "The date is not unique so we will have to group by massif and then date to plot the risk levels over time."
   ]
  },
  {
   "cell_type": "code",
   "execution_count": 17,
   "metadata": {},
   "outputs": [],
   "source": [
    "df_massifs = {massif: data[data['massif'] == massif] for massif in massifs}"
   ]
  },
  {
   "cell_type": "code",
   "execution_count": 18,
   "metadata": {
    "scrolled": true
   },
   "outputs": [
    {
     "name": "stdout",
     "output_type": "stream",
     "text": [
      "Massif: HAUT-VAR_HAUT-VERDON\n",
      "Unique dates: 597, Total rows: 597\n",
      "Are all dates unique? Yes\n",
      "\n",
      "Massif: CINTO-ROTONDO\n",
      "Unique dates: 611, Total rows: 611\n",
      "Are all dates unique? Yes\n",
      "\n",
      "Massif: HAUTE-MAURIENNE\n",
      "Unique dates: 606, Total rows: 606\n",
      "Are all dates unique? Yes\n",
      "\n",
      "Massif: OISANS\n",
      "Unique dates: 616, Total rows: 616\n",
      "Are all dates unique? Yes\n",
      "\n",
      "Massif: VANOISE\n",
      "Unique dates: 611, Total rows: 611\n",
      "Are all dates unique? Yes\n",
      "\n",
      "Massif: CHABLAIS\n",
      "Unique dates: 598, Total rows: 598\n",
      "Are all dates unique? Yes\n",
      "\n",
      "Massif: ASPE-OSSAU\n",
      "Unique dates: 607, Total rows: 607\n",
      "Are all dates unique? Yes\n",
      "\n",
      "Massif: PAYS-BASQUE\n",
      "Unique dates: 620, Total rows: 620\n",
      "Are all dates unique? Yes\n",
      "\n",
      "Massif: QUEYRAS\n",
      "Unique dates: 618, Total rows: 618\n",
      "Are all dates unique? Yes\n",
      "\n",
      "Massif: CERDAGNE-CANIGOU\n",
      "Unique dates: 619, Total rows: 619\n",
      "Are all dates unique? Yes\n",
      "\n",
      "Massif: MONT-BLANC\n",
      "Unique dates: 613, Total rows: 613\n",
      "Are all dates unique? Yes\n",
      "\n",
      "Massif: AURE-LOURON\n",
      "Unique dates: 595, Total rows: 595\n",
      "Are all dates unique? Yes\n",
      "\n",
      "Massif: CHARTREUSE\n",
      "Unique dates: 603, Total rows: 603\n",
      "Are all dates unique? Yes\n",
      "\n",
      "Massif: BAUGES\n",
      "Unique dates: 599, Total rows: 599\n",
      "Are all dates unique? Yes\n",
      "\n",
      "Massif: CHAMPSAUR\n",
      "Unique dates: 613, Total rows: 613\n",
      "Are all dates unique? Yes\n",
      "\n",
      "Massif: ARAVIS\n",
      "Unique dates: 611, Total rows: 611\n",
      "Are all dates unique? Yes\n",
      "\n",
      "Massif: DEVOLUY\n",
      "Unique dates: 598, Total rows: 598\n",
      "Are all dates unique? Yes\n",
      "\n",
      "Massif: ORLU__ST_BARTHELEMY\n",
      "Unique dates: 593, Total rows: 593\n",
      "Are all dates unique? Yes\n",
      "\n",
      "Massif: PELVOUX\n",
      "Unique dates: 603, Total rows: 603\n",
      "Are all dates unique? Yes\n",
      "\n",
      "Massif: CAPCIR-PUYMORENS\n",
      "Unique dates: 611, Total rows: 611\n",
      "Are all dates unique? Yes\n",
      "\n",
      "Massif: LUCHONNAIS\n",
      "Unique dates: 610, Total rows: 610\n",
      "Are all dates unique? Yes\n",
      "\n",
      "Massif: RENOSO-INCUDINE\n",
      "Unique dates: 592, Total rows: 592\n",
      "Are all dates unique? Yes\n",
      "\n",
      "Massif: HAUTE-BIGORRE\n",
      "Unique dates: 605, Total rows: 605\n",
      "Are all dates unique? Yes\n",
      "\n",
      "Massif: BELLEDONNE\n",
      "Unique dates: 621, Total rows: 621\n",
      "Are all dates unique? Yes\n",
      "\n",
      "Massif: HAUTE-ARIEGE\n",
      "Unique dates: 603, Total rows: 603\n",
      "Are all dates unique? Yes\n",
      "\n",
      "Massif: UBAYE\n",
      "Unique dates: 606, Total rows: 606\n",
      "Are all dates unique? Yes\n",
      "\n",
      "Massif: THABOR\n",
      "Unique dates: 629, Total rows: 629\n",
      "Are all dates unique? Yes\n",
      "\n",
      "Massif: HAUTE-TARENTAISE\n",
      "Unique dates: 599, Total rows: 599\n",
      "Are all dates unique? Yes\n",
      "\n",
      "Massif: GRANDES-ROUSSES\n",
      "Unique dates: 617, Total rows: 617\n",
      "Are all dates unique? Yes\n",
      "\n",
      "Massif: MERCANTOUR\n",
      "Unique dates: 602, Total rows: 602\n",
      "Are all dates unique? Yes\n",
      "\n",
      "Massif: ANDORRE\n",
      "Unique dates: 597, Total rows: 597\n",
      "Are all dates unique? Yes\n",
      "\n",
      "Massif: MAURIENNE\n",
      "Unique dates: 582, Total rows: 582\n",
      "Are all dates unique? Yes\n",
      "\n",
      "Massif: EMBRUNAIS-PARPAILLON\n",
      "Unique dates: 632, Total rows: 632\n",
      "Are all dates unique? Yes\n",
      "\n",
      "Massif: VERCORS\n",
      "Unique dates: 612, Total rows: 612\n",
      "Are all dates unique? Yes\n",
      "\n",
      "Massif: BEAUFORTAIN\n",
      "Unique dates: 604, Total rows: 604\n",
      "Are all dates unique? Yes\n",
      "\n",
      "Massif: COUSERANS\n",
      "Unique dates: 609, Total rows: 609\n",
      "Are all dates unique? Yes\n",
      "\n"
     ]
    }
   ],
   "source": [
    "for massif, df in df_massifs.items():\n",
    "    unique_dates = df['date'].nunique()\n",
    "    total_rows = df.shape[0]\n",
    "    \n",
    "    print(f\"Massif: {massif}\")\n",
    "    print(f\"Unique dates: {unique_dates}, Total rows: {total_rows}\")\n",
    "    print(f\"Are all dates unique? {'Yes' if unique_dates == total_rows else 'No'}\\n\")\n"
   ]
  },
  {
   "cell_type": "code",
   "execution_count": 19,
   "metadata": {},
   "outputs": [
    {
     "data": {
      "text/plain": [
       "Index(['date', 'massif', 'evolurisque1', 'altitude', 'risque2', 'risque_maxi',\n",
       "       '00_temps', '00_mer_de_nuages', '00_limite_pluie_neige',\n",
       "       '00_isotherme_0', '00_isotherme_moins_10', '00_altitude_vent_1',\n",
       "       '00_altitude_vent_2', '00_direction_vent_altitude_1',\n",
       "       '00_vitesse_vent_altitude_1', '00_direction_vent_altitude_2',\n",
       "       '00_vitesse_vent_altitude_2', '06_temps', '06_mer_de_nuages',\n",
       "       '06_limite_pluie_neige', '06_isotherme_0', '06_isotherme_moins_10',\n",
       "       '06_altitude_vent_1', '06_altitude_vent_2',\n",
       "       '06_direction_vent_altitude_1', '06_vitesse_vent_altitude_1',\n",
       "       '06_direction_vent_altitude_2', '06_vitesse_vent_altitude_2',\n",
       "       '12_temps', '12_mer_de_nuages', '12_limite_pluie_neige',\n",
       "       '12_isotherme_0', '12_isotherme_moins_10', '12_altitude_vent_1',\n",
       "       '12_altitude_vent_2', '12_direction_vent_altitude_1',\n",
       "       '12_vitesse_vent_altitude_1', '12_direction_vent_altitude_2',\n",
       "       '12_vitesse_vent_altitude_2', 'precipitation_neige_veille_altitude',\n",
       "       'precipitation_neige_veille_epaisseur', 'risque1'],\n",
       "      dtype='object')"
      ]
     },
     "execution_count": 19,
     "metadata": {},
     "output_type": "execute_result"
    }
   ],
   "source": [
    "data.columns"
   ]
  },
  {
   "cell_type": "code",
   "execution_count": 20,
   "metadata": {},
   "outputs": [],
   "source": [
    "list_massifs = list(data['massif'].unique())"
   ]
  },
  {
   "cell_type": "code",
   "execution_count": 21,
   "metadata": {},
   "outputs": [],
   "source": [
    "df_ordered = data[data['massif'] == 'HAUT-VAR_HAUT-VERDON'].sort_values(by='date')"
   ]
  },
  {
   "cell_type": "code",
   "execution_count": 22,
   "metadata": {},
   "outputs": [],
   "source": [
    "list_massifs.remove('HAUT-VAR_HAUT-VERDON')"
   ]
  },
  {
   "cell_type": "code",
   "execution_count": 23,
   "metadata": {},
   "outputs": [],
   "source": [
    "for massif in list_massifs:\n",
    "    df_ordered = pd.concat([df_ordered,data[data['massif']==massif].sort_values(by='date')],axis=0)"
   ]
  },
  {
   "cell_type": "code",
   "execution_count": 24,
   "metadata": {},
   "outputs": [],
   "source": [
    "core_vars = [\n",
    "    \"temps\", \"mer_de_nuages\", \"limite_pluie_neige\", \"isotherme_0\",\n",
    "    \"isotherme_moins_10\", \"altitude_vent_1\", \"altitude_vent_2\",\n",
    "    \"direction_vent_altitude_1\", \"vitesse_vent_altitude_1\",\n",
    "    \"direction_vent_altitude_2\", \"vitesse_vent_altitude_2\"\n",
    "    ]\n",
    "for time in [\"00\", \"06\", \"12\"]:\n",
    "        selected_cols = [f\"{time}_{var}\" for var in core_vars]"
   ]
  },
  {
   "cell_type": "code",
   "execution_count": 25,
   "metadata": {},
   "outputs": [],
   "source": [
    "df_ordered.reset_index(inplace=True,drop=True)"
   ]
  },
  {
   "cell_type": "code",
   "execution_count": 26,
   "metadata": {},
   "outputs": [],
   "source": [
    "with_lag = df_ordered[df_ordered['massif']=='HAUT-VAR_HAUT-VERDON'].copy()\n",
    "for var in selected_cols:\n",
    "    with_lag[f'{var}_lag_1'] = with_lag[var].shift(1,fill_value=with_lag.loc[0,var])\n",
    "    with_lag[f'{var}_lag_2'] = with_lag[var].shift(2,fill_value=with_lag.loc[0,var])\n",
    "    \n",
    "for massif in list_massifs:\n",
    "    temp_df = df_ordered[df_ordered['massif']==massif].copy()\n",
    "    temp_df.reset_index(inplace=True, drop=True)\n",
    "    for var in selected_cols:\n",
    "        temp_df[f'{var}_lag_1'] = temp_df[var].shift(1,fill_value=temp_df.loc[0,var])\n",
    "        temp_df[f'{var}_lag_2'] = temp_df[var].shift(2,fill_value=temp_df.loc[0,var])\n",
    "    with_lag = pd.concat([with_lag,temp_df],axis=0)\n",
    "    "
   ]
  },
  {
   "cell_type": "code",
   "execution_count": 27,
   "metadata": {},
   "outputs": [],
   "source": [
    "plot_df = df_ordered[['massif','risque1']].groupby('massif').mean()"
   ]
  },
  {
   "cell_type": "code",
   "execution_count": 28,
   "metadata": {},
   "outputs": [
    {
     "data": {
      "text/plain": [
       "Index(['ANDORRE', 'ARAVIS', 'ASPE-OSSAU', 'AURE-LOURON', 'BAUGES',\n",
       "       'BEAUFORTAIN', 'BELLEDONNE', 'CAPCIR-PUYMORENS', 'CERDAGNE-CANIGOU',\n",
       "       'CHABLAIS', 'CHAMPSAUR', 'CHARTREUSE', 'CINTO-ROTONDO', 'COUSERANS',\n",
       "       'DEVOLUY', 'EMBRUNAIS-PARPAILLON', 'GRANDES-ROUSSES',\n",
       "       'HAUT-VAR_HAUT-VERDON', 'HAUTE-ARIEGE', 'HAUTE-BIGORRE',\n",
       "       'HAUTE-MAURIENNE', 'HAUTE-TARENTAISE', 'LUCHONNAIS', 'MAURIENNE',\n",
       "       'MERCANTOUR', 'MONT-BLANC', 'OISANS', 'ORLU__ST_BARTHELEMY',\n",
       "       'PAYS-BASQUE', 'PELVOUX', 'QUEYRAS', 'RENOSO-INCUDINE', 'THABOR',\n",
       "       'UBAYE', 'VANOISE', 'VERCORS'],\n",
       "      dtype='object', name='massif')"
      ]
     },
     "execution_count": 28,
     "metadata": {},
     "output_type": "execute_result"
    }
   ],
   "source": [
    "plot_df.index"
   ]
  },
  {
   "cell_type": "code",
   "execution_count": 29,
   "metadata": {},
   "outputs": [
    {
     "data": {
      "text/plain": [
       "('carte_fr.zip', <http.client.HTTPMessage at 0x7f9d2656d910>)"
      ]
     },
     "execution_count": 29,
     "metadata": {},
     "output_type": "execute_result"
    }
   ],
   "source": [
    "from urllib.request import urlretrieve\n",
    "\n",
    "carte_fr_url = 'https://www.data.gouv.fr/fr/datasets/r/0e117c06-248f-45e5-8945-0e79d9136165'\n",
    "\n",
    "file_name = 'carte_fr.zip'\n",
    "\n",
    "urlretrieve(carte_fr_url,file_name)"
   ]
  },
  {
   "cell_type": "code",
   "execution_count": 30,
   "metadata": {},
   "outputs": [],
   "source": [
    "import os"
   ]
  },
  {
   "cell_type": "code",
   "execution_count": 31,
   "metadata": {},
   "outputs": [],
   "source": [
    "path = os.getcwd()"
   ]
  },
  {
   "cell_type": "code",
   "execution_count": 32,
   "metadata": {},
   "outputs": [
    {
     "data": {
      "text/plain": [
       "'/home/onyxia/work/avalanches_prediction'"
      ]
     },
     "execution_count": 32,
     "metadata": {},
     "output_type": "execute_result"
    }
   ],
   "source": [
    "path"
   ]
  },
  {
   "cell_type": "code",
   "execution_count": 33,
   "metadata": {},
   "outputs": [
    {
     "data": {
      "text/plain": [
       "\"\\n# importing the zipfile module \\nfrom zipfile import ZipFile \\n\\n# loading the temp.zip and creating a zip object \\nwith ZipFile(f'{path}/carte_fr.zip', 'r') as zObject: \\n\\n\\t# Extracting all the members of the zip \\n\\t# into a specific location. \\n\\tzObject.extractall( \\n\\t\\tpath=path) \\n\""
      ]
     },
     "execution_count": 33,
     "metadata": {},
     "output_type": "execute_result"
    }
   ],
   "source": [
    "\"\"\"\n",
    "# importing the zipfile module \n",
    "from zipfile import ZipFile \n",
    "\n",
    "# loading the temp.zip and creating a zip object \n",
    "with ZipFile(f'{path}/carte_fr.zip', 'r') as zObject: \n",
    "\n",
    "\t# Extracting all the members of the zip \n",
    "\t# into a specific location. \n",
    "\tzObject.extractall( \n",
    "\t\tpath=path) \n",
    "\"\"\""
   ]
  },
  {
   "cell_type": "code",
   "execution_count": 34,
   "metadata": {
    "scrolled": true
   },
   "outputs": [],
   "source": [
    "#fond_de_carte = gpd.read_file(f'{path}/communes-20220101.shp')"
   ]
  },
  {
   "cell_type": "code",
   "execution_count": 35,
   "metadata": {},
   "outputs": [
    {
     "name": "stderr",
     "output_type": "stream",
     "text": [
      "ERROR 1: PROJ: proj_create_from_database: Open of /opt/conda/share/proj failed\n"
     ]
    }
   ],
   "source": [
    "france = gpd.read_file('https://www.data.gouv.fr/fr/datasets/r/90b9341a-e1f7-4d75-a73c-bbc010c7feeb')"
   ]
  },
  {
   "cell_type": "code",
   "execution_count": 36,
   "metadata": {},
   "outputs": [
    {
     "data": {
      "text/plain": [
       "<Axes: >"
      ]
     },
     "execution_count": 36,
     "metadata": {},
     "output_type": "execute_result"
    },
    {
     "data": {
      "image/png": "[encoded data removed]",
      "text/plain": [
       "<Figure size 640x480 with 1 Axes>"
      ]
     },
     "metadata": {},
     "output_type": "display_data"
    }
   ],
   "source": [
    "france.plot()"
   ]
  },
  {
   "cell_type": "code",
   "execution_count": 39,
   "metadata": {},
   "outputs": [
    {
     "data": {
      "text/plain": [
       "('carte_paca.zip', <http.client.HTTPMessage at 0x7f9d15139df0>)"
      ]
     },
     "execution_count": 39,
     "metadata": {},
     "output_type": "execute_result"
    }
   ],
   "source": [
    "urlretrieve('https://download.geofabrik.de/europe/france/provence-alpes-cote-d-azur-latest-free.shp.zip','carte_paca.zip')"
   ]
  },
  {
   "cell_type": "code",
   "execution_count": 40,
   "metadata": {},
   "outputs": [
    {
     "ename": "KeyboardInterrupt",
     "evalue": "",
     "output_type": "error",
     "traceback": [
      "\u001b[0;31m---------------------------------------------------------------------------\u001b[0m",
      "\u001b[0;31mKeyboardInterrupt\u001b[0m                         Traceback (most recent call last)",
      "Cell \u001b[0;32mIn[40], line 1\u001b[0m\n\u001b[0;32m----> 1\u001b[0m \u001b[43murlretrieve\u001b[49m\u001b[43m(\u001b[49m\u001b[38;5;124;43m'\u001b[39;49m\u001b[38;5;124;43mhttps://download.geofabrik.de/europe/france/midi-pyrenees-latest-free.shp.zip\u001b[39;49m\u001b[38;5;124;43m'\u001b[39;49m\u001b[43m,\u001b[49m\u001b[38;5;124;43m'\u001b[39;49m\u001b[38;5;124;43mcarte_midi.zip\u001b[39;49m\u001b[38;5;124;43m'\u001b[39;49m\u001b[43m)\u001b[49m\n",
      "File \u001b[0;32m/opt/conda/lib/python3.12/urllib/request.py:268\u001b[0m, in \u001b[0;36murlretrieve\u001b[0;34m(url, filename, reporthook, data)\u001b[0m\n\u001b[1;32m    265\u001b[0m \u001b[38;5;28;01mif\u001b[39;00m reporthook:\n\u001b[1;32m    266\u001b[0m     reporthook(blocknum, bs, size)\n\u001b[0;32m--> 268\u001b[0m \u001b[38;5;28;01mwhile\u001b[39;00m block \u001b[38;5;241m:=\u001b[39m \u001b[43mfp\u001b[49m\u001b[38;5;241;43m.\u001b[39;49m\u001b[43mread\u001b[49m\u001b[43m(\u001b[49m\u001b[43mbs\u001b[49m\u001b[43m)\u001b[49m:\n\u001b[1;32m    269\u001b[0m     read \u001b[38;5;241m+\u001b[39m\u001b[38;5;241m=\u001b[39m \u001b[38;5;28mlen\u001b[39m(block)\n\u001b[1;32m    270\u001b[0m     tfp\u001b[38;5;241m.\u001b[39mwrite(block)\n",
      "File \u001b[0;32m/opt/conda/lib/python3.12/http/client.py:479\u001b[0m, in \u001b[0;36mHTTPResponse.read\u001b[0;34m(self, amt)\u001b[0m\n\u001b[1;32m    476\u001b[0m \u001b[38;5;28;01mif\u001b[39;00m \u001b[38;5;28mself\u001b[39m\u001b[38;5;241m.\u001b[39mlength \u001b[38;5;129;01mis\u001b[39;00m \u001b[38;5;129;01mnot\u001b[39;00m \u001b[38;5;28;01mNone\u001b[39;00m \u001b[38;5;129;01mand\u001b[39;00m amt \u001b[38;5;241m>\u001b[39m \u001b[38;5;28mself\u001b[39m\u001b[38;5;241m.\u001b[39mlength:\n\u001b[1;32m    477\u001b[0m     \u001b[38;5;66;03m# clip the read to the \"end of response\"\u001b[39;00m\n\u001b[1;32m    478\u001b[0m     amt \u001b[38;5;241m=\u001b[39m \u001b[38;5;28mself\u001b[39m\u001b[38;5;241m.\u001b[39mlength\n\u001b[0;32m--> 479\u001b[0m s \u001b[38;5;241m=\u001b[39m \u001b[38;5;28;43mself\u001b[39;49m\u001b[38;5;241;43m.\u001b[39;49m\u001b[43mfp\u001b[49m\u001b[38;5;241;43m.\u001b[39;49m\u001b[43mread\u001b[49m\u001b[43m(\u001b[49m\u001b[43mamt\u001b[49m\u001b[43m)\u001b[49m\n\u001b[1;32m    480\u001b[0m \u001b[38;5;28;01mif\u001b[39;00m \u001b[38;5;129;01mnot\u001b[39;00m s \u001b[38;5;129;01mand\u001b[39;00m amt:\n\u001b[1;32m    481\u001b[0m     \u001b[38;5;66;03m# Ideally, we would raise IncompleteRead if the content-length\u001b[39;00m\n\u001b[1;32m    482\u001b[0m     \u001b[38;5;66;03m# wasn't satisfied, but it might break compatibility.\u001b[39;00m\n\u001b[1;32m    483\u001b[0m     \u001b[38;5;28mself\u001b[39m\u001b[38;5;241m.\u001b[39m_close_conn()\n",
      "File \u001b[0;32m/opt/conda/lib/python3.12/socket.py:720\u001b[0m, in \u001b[0;36mSocketIO.readinto\u001b[0;34m(self, b)\u001b[0m\n\u001b[1;32m    718\u001b[0m \u001b[38;5;28;01mwhile\u001b[39;00m \u001b[38;5;28;01mTrue\u001b[39;00m:\n\u001b[1;32m    719\u001b[0m     \u001b[38;5;28;01mtry\u001b[39;00m:\n\u001b[0;32m--> 720\u001b[0m         \u001b[38;5;28;01mreturn\u001b[39;00m \u001b[38;5;28;43mself\u001b[39;49m\u001b[38;5;241;43m.\u001b[39;49m\u001b[43m_sock\u001b[49m\u001b[38;5;241;43m.\u001b[39;49m\u001b[43mrecv_into\u001b[49m\u001b[43m(\u001b[49m\u001b[43mb\u001b[49m\u001b[43m)\u001b[49m\n\u001b[1;32m    721\u001b[0m     \u001b[38;5;28;01mexcept\u001b[39;00m timeout:\n\u001b[1;32m    722\u001b[0m         \u001b[38;5;28mself\u001b[39m\u001b[38;5;241m.\u001b[39m_timeout_occurred \u001b[38;5;241m=\u001b[39m \u001b[38;5;28;01mTrue\u001b[39;00m\n",
      "File \u001b[0;32m/opt/conda/lib/python3.12/ssl.py:1251\u001b[0m, in \u001b[0;36mSSLSocket.recv_into\u001b[0;34m(self, buffer, nbytes, flags)\u001b[0m\n\u001b[1;32m   1247\u001b[0m     \u001b[38;5;28;01mif\u001b[39;00m flags \u001b[38;5;241m!=\u001b[39m \u001b[38;5;241m0\u001b[39m:\n\u001b[1;32m   1248\u001b[0m         \u001b[38;5;28;01mraise\u001b[39;00m \u001b[38;5;167;01mValueError\u001b[39;00m(\n\u001b[1;32m   1249\u001b[0m           \u001b[38;5;124m\"\u001b[39m\u001b[38;5;124mnon-zero flags not allowed in calls to recv_into() on \u001b[39m\u001b[38;5;132;01m%s\u001b[39;00m\u001b[38;5;124m\"\u001b[39m \u001b[38;5;241m%\u001b[39m\n\u001b[1;32m   1250\u001b[0m           \u001b[38;5;28mself\u001b[39m\u001b[38;5;241m.\u001b[39m\u001b[38;5;18m__class__\u001b[39m)\n\u001b[0;32m-> 1251\u001b[0m     \u001b[38;5;28;01mreturn\u001b[39;00m \u001b[38;5;28;43mself\u001b[39;49m\u001b[38;5;241;43m.\u001b[39;49m\u001b[43mread\u001b[49m\u001b[43m(\u001b[49m\u001b[43mnbytes\u001b[49m\u001b[43m,\u001b[49m\u001b[43m \u001b[49m\u001b[43mbuffer\u001b[49m\u001b[43m)\u001b[49m\n\u001b[1;32m   1252\u001b[0m \u001b[38;5;28;01melse\u001b[39;00m:\n\u001b[1;32m   1253\u001b[0m     \u001b[38;5;28;01mreturn\u001b[39;00m \u001b[38;5;28msuper\u001b[39m()\u001b[38;5;241m.\u001b[39mrecv_into(buffer, nbytes, flags)\n",
      "File \u001b[0;32m/opt/conda/lib/python3.12/ssl.py:1103\u001b[0m, in \u001b[0;36mSSLSocket.read\u001b[0;34m(self, len, buffer)\u001b[0m\n\u001b[1;32m   1101\u001b[0m \u001b[38;5;28;01mtry\u001b[39;00m:\n\u001b[1;32m   1102\u001b[0m     \u001b[38;5;28;01mif\u001b[39;00m buffer \u001b[38;5;129;01mis\u001b[39;00m \u001b[38;5;129;01mnot\u001b[39;00m \u001b[38;5;28;01mNone\u001b[39;00m:\n\u001b[0;32m-> 1103\u001b[0m         \u001b[38;5;28;01mreturn\u001b[39;00m \u001b[38;5;28;43mself\u001b[39;49m\u001b[38;5;241;43m.\u001b[39;49m\u001b[43m_sslobj\u001b[49m\u001b[38;5;241;43m.\u001b[39;49m\u001b[43mread\u001b[49m\u001b[43m(\u001b[49m\u001b[38;5;28;43mlen\u001b[39;49m\u001b[43m,\u001b[49m\u001b[43m \u001b[49m\u001b[43mbuffer\u001b[49m\u001b[43m)\u001b[49m\n\u001b[1;32m   1104\u001b[0m     \u001b[38;5;28;01melse\u001b[39;00m:\n\u001b[1;32m   1105\u001b[0m         \u001b[38;5;28;01mreturn\u001b[39;00m \u001b[38;5;28mself\u001b[39m\u001b[38;5;241m.\u001b[39m_sslobj\u001b[38;5;241m.\u001b[39mread(\u001b[38;5;28mlen\u001b[39m)\n",
      "\u001b[0;31mKeyboardInterrupt\u001b[0m: "
     ]
    }
   ],
   "source": [
    "urlretrieve('https://download.geofabrik.de/europe/france/midi-pyrenees-latest-free.shp.zip','carte_midi.zip')"
   ]
  },
  {
   "cell_type": "code",
   "execution_count": null,
   "metadata": {},
   "outputs": [],
   "source": [
    "urlretrieve('https://download.geofabrik.de/europe/france/languedoc-roussillon-latest-free.shp.zip','carte_languedoc.zip')"
   ]
  },
  {
   "cell_type": "code",
   "execution_count": null,
   "metadata": {},
   "outputs": [],
   "source": [
    "urlretrieve('https://download.geofabrik.de/europe/france/rhone-alpes-latest-free.shp.zip','carte_rhone_alpes.zip')"
   ]
  },
  {
   "cell_type": "code",
   "execution_count": null,
   "metadata": {},
   "outputs": [],
   "source": [
    "for carte in ['paca','midi','languedoc','rhone_alpes']:\n",
    "    with ZipFile(f'{path}/carte_{carte}.zip','r') as zObject:\n",
    "        "
   ]
  },
  {
   "cell_type": "code",
   "execution_count": null,
   "metadata": {},
   "outputs": [],
   "source": [
    "\n",
    "\n",
    "# Liste des massifs montagneux avec leurs coordonnées approximatives\n",
    "massifs = {\n",
    "    'ANDORRE': Polygon([(1.4, 42.5), (1.6, 42.5), (1.6, 42.7), (1.4, 42.7)]),\n",
    "    'ARAVIS': Polygon([(6.3, 45.8), (6.5, 45.8), (6.5, 46.0), (6.3, 46.0)]),\n",
    "    'ASPE-OSSAU': Polygon([(-0.6, 42.9), (-0.4, 42.9), (-0.4, 43.1), (-0.6, 43.1)]),\n",
    "    'AURE-LOURON': Polygon([(0.2, 42.8), (0.4, 42.8), (0.4, 43.0), (0.2, 43.0)]),\n",
    "    'BAUGES': Polygon([(6.0, 45.6), (6.2, 45.6), (6.2, 45.8), (6.0, 45.8)]),\n",
    "    'BEAUFORTAIN': Polygon([(6.4, 45.6), (6.6, 45.6), (6.6, 45.8), (6.4, 45.8)]),\n",
    "    'BELLEDONNE': Polygon([(5.8, 45.1), (6.0, 45.1), (6.0, 45.3), (5.8, 45.3)]),\n",
    "    'CAPCIR-PUYMORENS': Polygon([(1.9, 42.4), (2.1, 42.4), (2.1, 42.6), (1.9, 42.6)]),\n",
    "    'CERDAGNE-CANIGOU': Polygon([(2.3, 42.4), (2.5, 42.4), (2.5, 42.6), (2.3, 42.6)]),\n",
    "    'CHABLAIS': Polygon([(6.4, 46.2), (6.6, 46.2), (6.6, 46.4), (6.4, 46.4)]),\n",
    "    'CHAMPSAUR': Polygon([(6.0, 44.6), (6.2, 44.6), (6.2, 44.8), (6.0, 44.8)]),\n",
    "    'CHARTREUSE': Polygon([(5.7, 45.2), (5.9, 45.2), (5.9, 45.4), (5.7, 45.4)]),\n",
    "    'CINTO-ROTONDO': Polygon([(9.1, 42.3), (9.3, 42.3), (9.3, 42.5), (9.1, 42.5)]),\n",
    "    'COUSERANS': Polygon([(0.9, 42.9), (1.1, 42.9), (1.1, 43.1), (0.9, 43.1)]),\n",
    "    'DEVOLUY': Polygon([(5.7, 44.6), (5.9, 44.6), (5.9, 44.8), (5.7, 44.8)]),\n",
    "    'EMBRUNAIS-PARPAILLON': Polygon([(6.4, 44.5), (6.6, 44.5), (6.6, 44.7), (6.4, 44.7)]),\n",
    "    'GRANDES-ROUSSES': Polygon([(6.0, 45.1), (6.2, 45.1), (6.2, 45.3), (6.0, 45.3)]),\n",
    "    'HAUT-VAR_HAUT-VERDON': Polygon([(6.4, 43.9), (6.6, 43.9), (6.6, 44.1), (6.4, 44.1)]),\n",
    "    'HAUTE-ARIEGE': Polygon([(1.3, 42.7), (1.5, 42.7), (1.5, 42.9), (1.3, 42.9)]),\n",
    "    'HAUTE-BIGORRE': Polygon([(0.0, 43.0), (0.2, 43.0), (0.2, 43.2), (0.0, 43.2)]),\n",
    "    'HAUTE-MAURIENNE': Polygon([(6.5, 45.1), (6.7, 45.1), (6.7, 45.3), (6.5, 45.3)]),\n",
    "    'HAUTE-TARENTAISE': Polygon([(6.7, 45.4), (6.9, 45.4), (6.9, 45.6), (6.7, 45.6)]),\n",
    "    'LUCHONNAIS': Polygon([(0.5, 42.8), (0.7, 42.8), (0.7, 43.0), (0.5, 43.0)]),\n",
    "    'MAURIENNE': Polygon([(6.2, 45.1), (6.4, 45.1), (6.4, 45.3), (6.2, 45.3)]),\n",
    "    'MERCANTOUR': Polygon([(6.9, 44.0), (7.1, 44.0), (7.1, 44.2), (6.9, 44.2)]),\n",
    "    'MONT-BLANC': Polygon([(6.7, 45.8), (6.9, 45.8), (6.9, 46.0), (6.7, 46.0)]),\n",
    "    'OISANS': Polygon([(6.0, 45.0), (6.2, 45.0), (6.2, 45.2), (6.0, 45.2)]),\n",
    "    'ORLU__ST_BARTHELEMY': Polygon([(1.8, 42.7), (2.0, 42.7), (2.0, 42.9), (1.8, 42.9)]),\n",
    "    'PAYS-BASQUE': Polygon([(-1.4, 43.2), (-1.2, 43.2), (-1.2, 43.4), (-1.4, 43.4)]),\n",
    "    'PELVOUX': Polygon([(6.2, 44.7), (6.4, 44.7), (6.4, 44.9), (6.2, 44.9)]),\n",
    "    'QUEYRAS': Polygon([(6.6, 44.6), (6.8, 44.6), (6.8, 44.8), (6.6, 44.8)]),\n",
    "    'RENOSO-INCUDINE': Polygon([(9.0, 41.8), (9.2, 41.8), (9.2, 42.0), (9.0, 42.0)]),\n",
    "    'THABOR': Polygon([(6.3, 44.9), (6.5, 44.9), (6.5, 45.1), (6.3, 45.1)]),\n",
    "    'UBAYE': Polygon([(6.5, 44.3), (6.7, 44.3), (6.7, 44.5), (6.5, 44.5)]),\n",
    "    'VANOISE': Polygon([(6.6, 45.3), (6.8, 45.3), (6.8, 45.5), (6.6, 45.5)]),\n",
    "    'VERCORS': Polygon([(5.3, 44.9), (5.5, 44.9), (5.5, 45.1), (5.3, 45.1)])\n",
    "}\n",
    "\n",
    "# Convertir le dictionnaire en DataFrame\n",
    "df_massifs = pd.DataFrame(list(massifs.items()), columns=['Nom', 'Geometry'])\n",
    "\n",
    "# Créer un GeoDataFrame à partir du DataFrame\n",
    "gdf_massifs = gpd.GeoDataFrame(df_massifs, geometry='Geometry', crs=\"EPSG:4326\")\n",
    "\n",
    "# Charger le fond de carte (assurez-vous d'avoir un fichier de fond de carte au format approprié)\n",
    "fond_de_carte = gpd.read_file('https://www.data.gouv.fr/fr/datasets/r/90b9341a-e1f7-4d75-a73c-bbc010c7feeb')\n",
    "\n",
    "# Créer la figure et l'axe\n",
    "fig, ax = plt.subplots(figsize=(15, 15))\n",
    "\n",
    "# Afficher le fond de carte\n",
    "fond_de_carte.boundary.plot(ax=ax, linewidth=1, edgecolor='black')\n",
    "fond_de_carte.plot(ax=ax, color='lightgrey')\n",
    "\n",
    "# Afficher les massifs montagneux\n",
    "gdf_massifs.plot(ax=ax, color='blue', edgecolor='black', alpha=0.5)\n",
    "\n",
    "# Ajouter des titres et légendes\n",
    "ax.set_title('Carte des massifs montagneux français', fontsize=15)\n",
    "ax.set_xlabel('Longitude')\n",
    "ax.set_ylabel('Latitude')\n",
    "\n",
    "# Afficher la carte\n",
    "plt.show()\n"
   ]
  },
  {
   "cell_type": "code",
   "execution_count": null,
   "metadata": {},
   "outputs": [],
   "source": [
    "\"\"\"\n",
    "def reshape_massif_data(df):\n",
    "    \"\"\"\n",
    "    #Reshapes the dataframe to keep all columns while ensuring \n",
    "    #each day has 3 rows (one for 00:00, one for 06:00, and one for 12:00).\n",
    "    \"\"\"\n",
    "\n",
    "    # Identify core variable names (without time prefixes)\n",
    "    core_vars = [\n",
    "        \"temps\", \"mer_de_nuages\", \"limite_pluie_neige\", \"isotherme_0\",\n",
    "        \"isotherme_moins_10\", \"altitude_vent_1\", \"altitude_vent_2\",\n",
    "        \"direction_vent_altitude_1\", \"vitesse_vent_altitude_1\",\n",
    "        \"direction_vent_altitude_2\", \"vitesse_vent_altitude_2\"\n",
    "    ]\n",
    "\n",
    "    # Keep non-time-dependent columns\n",
    "    other_columns = [\n",
    "        \"date\", \"massif\", \"evolurisque1\", \"altitude\", \"risque2\", \"risque_maxi\",\n",
    "        \"precipitation_neige_veille_altitude\", \"precipitation_neige_veille_epaisseur\",\n",
    "        \"risque1\"\n",
    "    ]\n",
    "\n",
    "    reshaped_data = []\n",
    "\n",
    "    # Process each time \n",
    "    for time in [\"00\", \"06\", \"12\"]:\n",
    "        # Select the time-specific columns\n",
    "        selected_cols = [f\"{time}_{var}\" for var in core_vars]\n",
    "\n",
    "        # Extract the relevant columns\n",
    "        df_subset = df[other_columns + selected_cols].copy()\n",
    "\n",
    "        # Rename time-prefixed columns to remove the time prefix\n",
    "        df_subset.columns = other_columns + core_vars\n",
    "\n",
    "        # Set the correct time for each row\n",
    "        df_subset[\"date\"] = df_subset[\"date\"].dt.normalize() + pd.to_timedelta(f\"{time}:00:00\")\n",
    "\n",
    "        # Append transformed dataframe\n",
    "        reshaped_data.append(df_subset)\n",
    "\n",
    "    # Concatenate the three time-based DataFrames\n",
    "    return pd.concat(reshaped_data).sort_values(by=[\"massif\", \"date\"]).reset_index(drop=True)\n",
    "\n",
    "# Apply transformation for all massifs\n",
    "df_transformed_massifs = {massif: reshape_massif_data(df) for massif, df in df_massifs.items()}\n",
    "\n",
    "# Merge all massifs into a single DataFrame\n",
    "df_final = pd.concat(df_transformed_massifs.values()).reset_index(drop=True)\n",
    "\n",
    "# Check the result\n",
    "print(df_final.head())\n",
    "\"\"\""
   ]
  },
  {
   "cell_type": "code",
   "execution_count": null,
   "metadata": {},
   "outputs": [],
   "source": [
    "#df_final.isna().sum()"
   ]
  },
  {
   "cell_type": "code",
   "execution_count": null,
   "metadata": {},
   "outputs": [],
   "source": [
    "y_df = with_lag['risque1'].copy()\n",
    "#y_expanded = pd.concat([y_df] * 3, ignore_index=True)\n",
    "#y_expanded = y_expanded.squeeze()"
   ]
  },
  {
   "cell_type": "markdown",
   "metadata": {},
   "source": [
    "# Challenge evaluation\n",
    "\n",
    "A particularly important point in a challenge is to describe how it is evaluated. This is the section where you should describe the metric that will be used to evaluate the participants' submissions, as well as your evaluation strategy, in particular if there is some complexity in the way the data should be split to ensure valid results."
   ]
  },
  {
   "cell_type": "markdown",
   "metadata": {},
   "source": [
    "# Submission format\n",
    "\n",
    "Here, you should describe the submission format. This is the format the participants should follow to submit their predictions on the RAMP plateform.\n",
    "\n",
    "This section also show how to use the `ramp-workflow` library to test the submission locally."
   ]
  },
  {
   "cell_type": "markdown",
   "metadata": {},
   "source": [
    "## The pipeline workflow\n",
    "\n",
    "The input data are stored in a dataframe. To go from a dataframe to a numpy array we will use a scikit-learn column transformer. The first example we will write will just consist in selecting a subset of columns we want to work with."
   ]
  },
  {
   "cell_type": "code",
   "execution_count": null,
   "metadata": {},
   "outputs": [],
   "source": [
    "# %load submissions/starting_kit/estimator.py\n",
    "\n",
    "from sklearn.pipeline import make_pipeline\n",
    "from sklearn.preprocessing import StandardScaler\n",
    "from sklearn.linear_model import LogisticRegression\n",
    "from sklearn.preprocessing import StandardScaler, OneHotEncoder\n",
    "from sklearn.impute import SimpleImputer\n",
    "from sklearn.pipeline import Pipeline\n",
    "from sklearn.compose import ColumnTransformer\n",
    "from sklearn.ensemble import RandomForestClassifier\n",
    "from sklearn.svm import SVC\n",
    "\n",
    "\n",
    "def get_estimator():\n",
    "    # Identify numerical and categorical features\n",
    "    num_features = with_lag.select_dtypes(include=['int64', 'float64']).columns.tolist()\n",
    "    cat_features = with_lag.select_dtypes(include=['object', 'category']).columns.tolist()\n",
    "\n",
    "    # Preprocessing Pipelines\n",
    "    num_pipeline = make_pipeline(\n",
    "        SimpleImputer(strategy='median'),\n",
    "        StandardScaler()\n",
    "    )\n",
    "\n",
    "    cat_pipeline = make_pipeline(\n",
    "        SimpleImputer(strategy='most_frequent'),\n",
    "        OneHotEncoder(handle_unknown='ignore')\n",
    "    )\n",
    "\n",
    "    # Combine preprocessing steps\n",
    "    preprocessor = ColumnTransformer([\n",
    "        ('num', num_pipeline, num_features),\n",
    "        ('cat', cat_pipeline, cat_features)\n",
    "    ])\n",
    "\n",
    "    # Define Model Pipeline \n",
    "    model_pipeline = make_pipeline(\n",
    "        preprocessor,\n",
    "        RandomForestClassifier(n_estimators=200,max_depth=12)\n",
    "    )\n",
    "\n",
    "    return model_pipeline\n"
   ]
  },
  {
   "cell_type": "code",
   "execution_count": null,
   "metadata": {},
   "outputs": [],
   "source": [
    "print(y)"
   ]
  },
  {
   "cell_type": "markdown",
   "metadata": {},
   "source": [
    "## Testing using a scikit-learn pipeline"
   ]
  },
  {
   "cell_type": "code",
   "execution_count": null,
   "metadata": {},
   "outputs": [],
   "source": [
    "from sklearn.model_selection import cross_val_score\n",
    "\n",
    "scores = cross_val_score(get_estimator(), with_lag, y, cv=5, scoring='accuracy')\n",
    "\n",
    "# Print Results\n",
    "print(\"Cross-Validation Accuracy Scores:\", scores)\n",
    "print(\"Mean Accuracy:\", scores.mean())\n",
    "print(\"Standard Deviation:\", scores.std())"
   ]
  },
  {
   "cell_type": "markdown",
   "metadata": {},
   "source": [
    "## Submission\n",
    "\n",
    "To submit your code, you can refer to the [online documentation](https://paris-saclay-cds.github.io/ramp-docs/ramp-workflow/stable/using_kits.html)."
   ]
  },
  {
   "cell_type": "code",
   "execution_count": null,
   "metadata": {},
   "outputs": [],
   "source": []
  }
 ],
 "metadata": {
  "kernelspec": {
   "display_name": "Python 3 (ipykernel)",
   "language": "python",
   "name": "python3"
  },
  "language_info": {
   "codemirror_mode": {
    "name": "ipython",
    "version": 3
   },
   "file_extension": ".py",
   "mimetype": "text/x-python",
   "name": "python",
   "nbconvert_exporter": "python",
   "pygments_lexer": "ipython3",
   "version": "3.12.7"
  }
 },
 "nbformat": 4,
 "nbformat_minor": 4
}
